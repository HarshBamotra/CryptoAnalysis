{
 "cells": [
  {
   "cell_type": "markdown",
   "id": "900b9044",
   "metadata": {},
   "source": [
    "# New Approach\n",
    "\n",
    "<hr>\n",
    "\n",
    "### Team information\n",
    "**1. Ayushi Sharma  (    /3rd Year)** <br>\n",
    "**2. Harsh Bamotra  (5rd /3nd Year)** <br>\n",
    "**3. Pratham Sharma (5rd /3nd Year)** <br>\n",
    "\n",
    "Supervisor    : **Prof. Vibha Gaur** <br>\n",
    "Course        : **BSc. (H) Computer Science** <br>\n",
    "College       : **Acharya Narendra Dev College** <br>"
   ]
  },
  {
   "cell_type": "markdown",
   "id": "ea24a488",
   "metadata": {},
   "source": [
    "## Power Consumption"
   ]
  },
  {
   "cell_type": "markdown",
   "id": "9713048c",
   "metadata": {},
   "source": [
    "Importing required libraries\n",
    "- pandas\n",
    "- numpy\n",
    "- matplotlib\n",
    "- os\n",
    "- requests"
   ]
  },
  {
   "cell_type": "code",
   "execution_count": 1,
   "id": "2248447f",
   "metadata": {},
   "outputs": [],
   "source": [
    "import pandas as pd\n",
    "import numpy as np\n",
    "import matplotlib.pyplot as pt\n",
    "import os\n",
    "import requests"
   ]
  },
  {
   "cell_type": "markdown",
   "id": "461a84c4",
   "metadata": {},
   "source": [
    "Reading the following csv files:\n",
    "- Hybrid Method - Hashrate.csv\n",
    "- Hybrid Method - EOH2021.csv"
   ]
  },
  {
   "cell_type": "code",
   "execution_count": 2,
   "id": "bd3e620f",
   "metadata": {},
   "outputs": [],
   "source": [
    "hr=pd.read_csv(\"Hybrid Method - Hashrate.csv\")\n",
    "ef=pd.read_csv(\"Hybrid Method - EOH2021.csv\")"
   ]
  },
  {
   "cell_type": "markdown",
   "id": "2572ba65",
   "metadata": {},
   "source": [
    "Droping unwanted extra attributes"
   ]
  },
  {
   "cell_type": "code",
   "execution_count": 3,
   "id": "a1f33db2",
   "metadata": {},
   "outputs": [],
   "source": [
    "hr = hr[['Year', 'hash-rate']]\n",
    "ef = ef[['Year', 'Efficiency(J/TH)']]"
   ]
  },
  {
   "cell_type": "markdown",
   "id": "9252b411",
   "metadata": {},
   "source": [
    "Calculating year wise total hash-rate"
   ]
  },
  {
   "cell_type": "code",
   "execution_count": 4,
   "id": "19f75be2",
   "metadata": {},
   "outputs": [
    {
     "data": {
      "text/html": [
       "<div>\n",
       "<style scoped>\n",
       "    .dataframe tbody tr th:only-of-type {\n",
       "        vertical-align: middle;\n",
       "    }\n",
       "\n",
       "    .dataframe tbody tr th {\n",
       "        vertical-align: top;\n",
       "    }\n",
       "\n",
       "    .dataframe thead th {\n",
       "        text-align: right;\n",
       "    }\n",
       "</style>\n",
       "<table border=\"1\" class=\"dataframe\">\n",
       "  <thead>\n",
       "    <tr style=\"text-align: right;\">\n",
       "      <th></th>\n",
       "      <th>Year</th>\n",
       "      <th>Hash-rate</th>\n",
       "    </tr>\n",
       "  </thead>\n",
       "  <tbody>\n",
       "    <tr>\n",
       "      <th>0</th>\n",
       "      <td>2009</td>\n",
       "      <td>0.000545</td>\n",
       "    </tr>\n",
       "    <tr>\n",
       "      <th>1</th>\n",
       "      <td>2010</td>\n",
       "      <td>1.868648</td>\n",
       "    </tr>\n",
       "    <tr>\n",
       "      <th>2</th>\n",
       "      <td>2011</td>\n",
       "      <td>774.956000</td>\n",
       "    </tr>\n",
       "    <tr>\n",
       "      <th>3</th>\n",
       "      <td>2012</td>\n",
       "      <td>1919.440000</td>\n",
       "    </tr>\n",
       "    <tr>\n",
       "      <th>4</th>\n",
       "      <td>2013</td>\n",
       "      <td>173377.200000</td>\n",
       "    </tr>\n",
       "  </tbody>\n",
       "</table>\n",
       "</div>"
      ],
      "text/plain": [
       "   Year      Hash-rate\n",
       "0  2009       0.000545\n",
       "1  2010       1.868648\n",
       "2  2011     774.956000\n",
       "3  2012    1919.440000\n",
       "4  2013  173377.200000"
      ]
     },
     "execution_count": 4,
     "metadata": {},
     "output_type": "execute_result"
    }
   ],
   "source": [
    "Year_HR = hr.groupby(['Year'] , as_index=False).agg({\"hash-rate\" : \"sum\"})\n",
    "Year_HR.columns = ['Year' , 'Hash-rate']\n",
    "Year_HR = Year_HR.drop(13)\n",
    "Year_HR.head()"
   ]
  },
  {
   "cell_type": "markdown",
   "id": "35243377",
   "metadata": {},
   "source": [
    "Calculating year wise min efficiency of the hardware to calculate the upper bound"
   ]
  },
  {
   "cell_type": "code",
   "execution_count": 5,
   "id": "0f1ee635",
   "metadata": {},
   "outputs": [
    {
     "data": {
      "text/html": [
       "<div>\n",
       "<style scoped>\n",
       "    .dataframe tbody tr th:only-of-type {\n",
       "        vertical-align: middle;\n",
       "    }\n",
       "\n",
       "    .dataframe tbody tr th {\n",
       "        vertical-align: top;\n",
       "    }\n",
       "\n",
       "    .dataframe thead th {\n",
       "        text-align: right;\n",
       "    }\n",
       "</style>\n",
       "<table border=\"1\" class=\"dataframe\">\n",
       "  <thead>\n",
       "    <tr style=\"text-align: right;\">\n",
       "      <th></th>\n",
       "      <th>Year</th>\n",
       "      <th>Efficiency(J/TH)</th>\n",
       "    </tr>\n",
       "  </thead>\n",
       "  <tbody>\n",
       "    <tr>\n",
       "      <th>0</th>\n",
       "      <td>2009</td>\n",
       "      <td>14313725.49</td>\n",
       "    </tr>\n",
       "    <tr>\n",
       "      <th>1</th>\n",
       "      <td>2010</td>\n",
       "      <td>2405161.29</td>\n",
       "    </tr>\n",
       "    <tr>\n",
       "      <th>2</th>\n",
       "      <td>2011</td>\n",
       "      <td>43000.00</td>\n",
       "    </tr>\n",
       "    <tr>\n",
       "      <th>3</th>\n",
       "      <td>2012</td>\n",
       "      <td>65000.00</td>\n",
       "    </tr>\n",
       "    <tr>\n",
       "      <th>4</th>\n",
       "      <td>2013</td>\n",
       "      <td>2000.00</td>\n",
       "    </tr>\n",
       "  </tbody>\n",
       "</table>\n",
       "</div>"
      ],
      "text/plain": [
       "   Year  Efficiency(J/TH)\n",
       "0  2009       14313725.49\n",
       "1  2010        2405161.29\n",
       "2  2011          43000.00\n",
       "3  2012          65000.00\n",
       "4  2013           2000.00"
      ]
     },
     "execution_count": 5,
     "metadata": {},
     "output_type": "execute_result"
    }
   ],
   "source": [
    "Year_MinEF = ef.groupby(['Year'] , as_index=False).agg({\"Efficiency(J/TH)\" : \"min\"})\n",
    "Year_MinEF.columns = ['Year' , 'Efficiency(J/TH)']\n",
    "Year_MinEF.head()"
   ]
  },
  {
   "cell_type": "markdown",
   "id": "317559b1",
   "metadata": {},
   "source": [
    "Calculating year wise max efficiency of the hardware to calculate the lower bound"
   ]
  },
  {
   "cell_type": "code",
   "execution_count": 6,
   "id": "3c7b8155",
   "metadata": {},
   "outputs": [
    {
     "data": {
      "text/html": [
       "<div>\n",
       "<style scoped>\n",
       "    .dataframe tbody tr th:only-of-type {\n",
       "        vertical-align: middle;\n",
       "    }\n",
       "\n",
       "    .dataframe tbody tr th {\n",
       "        vertical-align: top;\n",
       "    }\n",
       "\n",
       "    .dataframe thead th {\n",
       "        text-align: right;\n",
       "    }\n",
       "</style>\n",
       "<table border=\"1\" class=\"dataframe\">\n",
       "  <thead>\n",
       "    <tr style=\"text-align: right;\">\n",
       "      <th></th>\n",
       "      <th>Year</th>\n",
       "      <th>Efficiency(J/TH)</th>\n",
       "    </tr>\n",
       "  </thead>\n",
       "  <tbody>\n",
       "    <tr>\n",
       "      <th>0</th>\n",
       "      <td>2009</td>\n",
       "      <td>1.431373e+07</td>\n",
       "    </tr>\n",
       "    <tr>\n",
       "      <th>1</th>\n",
       "      <td>2010</td>\n",
       "      <td>2.405161e+06</td>\n",
       "    </tr>\n",
       "    <tr>\n",
       "      <th>2</th>\n",
       "      <td>2011</td>\n",
       "      <td>6.787879e+06</td>\n",
       "    </tr>\n",
       "    <tr>\n",
       "      <th>3</th>\n",
       "      <td>2012</td>\n",
       "      <td>6.500000e+04</td>\n",
       "    </tr>\n",
       "    <tr>\n",
       "      <th>4</th>\n",
       "      <td>2013</td>\n",
       "      <td>9.916667e+03</td>\n",
       "    </tr>\n",
       "  </tbody>\n",
       "</table>\n",
       "</div>"
      ],
      "text/plain": [
       "   Year  Efficiency(J/TH)\n",
       "0  2009      1.431373e+07\n",
       "1  2010      2.405161e+06\n",
       "2  2011      6.787879e+06\n",
       "3  2012      6.500000e+04\n",
       "4  2013      9.916667e+03"
      ]
     },
     "execution_count": 6,
     "metadata": {},
     "output_type": "execute_result"
    }
   ],
   "source": [
    "Year_MaxEF = ef.groupby(['Year'] , as_index=False).agg({\"Efficiency(J/TH)\" : \"max\"})\n",
    "Year_MaxEF.columns = ['Year' , 'Efficiency(J/TH)']\n",
    "Year_MaxEF.head()"
   ]
  },
  {
   "cell_type": "markdown",
   "id": "57452c13",
   "metadata": {},
   "source": [
    "Calculating the annual power consumption"
   ]
  },
  {
   "cell_type": "code",
   "execution_count": 7,
   "id": "18cbe4d4",
   "metadata": {},
   "outputs": [
    {
     "data": {
      "text/html": [
       "<div>\n",
       "<style scoped>\n",
       "    .dataframe tbody tr th:only-of-type {\n",
       "        vertical-align: middle;\n",
       "    }\n",
       "\n",
       "    .dataframe tbody tr th {\n",
       "        vertical-align: top;\n",
       "    }\n",
       "\n",
       "    .dataframe thead th {\n",
       "        text-align: right;\n",
       "    }\n",
       "</style>\n",
       "<table border=\"1\" class=\"dataframe\">\n",
       "  <thead>\n",
       "    <tr style=\"text-align: right;\">\n",
       "      <th></th>\n",
       "      <th>Year</th>\n",
       "      <th>Hash-rate</th>\n",
       "      <th>Lower Bound</th>\n",
       "      <th>Upper Bound</th>\n",
       "      <th>Average</th>\n",
       "    </tr>\n",
       "  </thead>\n",
       "  <tbody>\n",
       "    <tr>\n",
       "      <th>0</th>\n",
       "      <td>2009</td>\n",
       "      <td>5.449257e-04</td>\n",
       "      <td>5.615940e+02</td>\n",
       "      <td>5.615940e+02</td>\n",
       "      <td>5.615940e+02</td>\n",
       "    </tr>\n",
       "    <tr>\n",
       "      <th>1</th>\n",
       "      <td>2010</td>\n",
       "      <td>1.868648e+00</td>\n",
       "      <td>3.235969e+05</td>\n",
       "      <td>3.235969e+05</td>\n",
       "      <td>3.235969e+05</td>\n",
       "    </tr>\n",
       "    <tr>\n",
       "      <th>2</th>\n",
       "      <td>2011</td>\n",
       "      <td>7.749560e+02</td>\n",
       "      <td>2.399264e+06</td>\n",
       "      <td>3.787421e+08</td>\n",
       "      <td>1.905707e+08</td>\n",
       "    </tr>\n",
       "    <tr>\n",
       "      <th>3</th>\n",
       "      <td>2012</td>\n",
       "      <td>1.919440e+03</td>\n",
       "      <td>8.982979e+06</td>\n",
       "      <td>8.982979e+06</td>\n",
       "      <td>8.982979e+06</td>\n",
       "    </tr>\n",
       "    <tr>\n",
       "      <th>4</th>\n",
       "      <td>2013</td>\n",
       "      <td>1.733772e+05</td>\n",
       "      <td>2.496632e+07</td>\n",
       "      <td>1.237913e+08</td>\n",
       "      <td>7.437882e+07</td>\n",
       "    </tr>\n",
       "    <tr>\n",
       "      <th>5</th>\n",
       "      <td>2014</td>\n",
       "      <td>1.714790e+07</td>\n",
       "      <td>6.306864e+08</td>\n",
       "      <td>9.453587e+08</td>\n",
       "      <td>7.880226e+08</td>\n",
       "    </tr>\n",
       "    <tr>\n",
       "      <th>6</th>\n",
       "      <td>2015</td>\n",
       "      <td>4.945100e+07</td>\n",
       "      <td>9.732960e+08</td>\n",
       "      <td>9.732960e+08</td>\n",
       "      <td>9.732960e+08</td>\n",
       "    </tr>\n",
       "    <tr>\n",
       "      <th>7</th>\n",
       "      <td>2016</td>\n",
       "      <td>1.870480e+08</td>\n",
       "      <td>1.319811e+09</td>\n",
       "      <td>3.476598e+09</td>\n",
       "      <td>2.398204e+09</td>\n",
       "    </tr>\n",
       "    <tr>\n",
       "      <th>8</th>\n",
       "      <td>2017</td>\n",
       "      <td>7.628300e+08</td>\n",
       "      <td>5.334547e+09</td>\n",
       "      <td>8.652371e+09</td>\n",
       "      <td>6.993459e+09</td>\n",
       "    </tr>\n",
       "    <tr>\n",
       "      <th>9</th>\n",
       "      <td>2018</td>\n",
       "      <td>4.441300e+09</td>\n",
       "      <td>1.438981e+10</td>\n",
       "      <td>8.210187e+10</td>\n",
       "      <td>4.824584e+10</td>\n",
       "    </tr>\n",
       "    <tr>\n",
       "      <th>10</th>\n",
       "      <td>2019</td>\n",
       "      <td>8.177000e+09</td>\n",
       "      <td>2.325539e+10</td>\n",
       "      <td>5.712995e+10</td>\n",
       "      <td>4.019267e+10</td>\n",
       "    </tr>\n",
       "    <tr>\n",
       "      <th>11</th>\n",
       "      <td>2020</td>\n",
       "      <td>1.462430e+10</td>\n",
       "      <td>3.110992e+10</td>\n",
       "      <td>5.685928e+10</td>\n",
       "      <td>4.398460e+10</td>\n",
       "    </tr>\n",
       "    <tr>\n",
       "      <th>12</th>\n",
       "      <td>2021</td>\n",
       "      <td>1.753490e+10</td>\n",
       "      <td>3.850664e+10</td>\n",
       "      <td>1.207621e+11</td>\n",
       "      <td>7.963438e+10</td>\n",
       "    </tr>\n",
       "  </tbody>\n",
       "</table>\n",
       "</div>"
      ],
      "text/plain": [
       "    Year     Hash-rate   Lower Bound   Upper Bound       Average\n",
       "0   2009  5.449257e-04  5.615940e+02  5.615940e+02  5.615940e+02\n",
       "1   2010  1.868648e+00  3.235969e+05  3.235969e+05  3.235969e+05\n",
       "2   2011  7.749560e+02  2.399264e+06  3.787421e+08  1.905707e+08\n",
       "3   2012  1.919440e+03  8.982979e+06  8.982979e+06  8.982979e+06\n",
       "4   2013  1.733772e+05  2.496632e+07  1.237913e+08  7.437882e+07\n",
       "5   2014  1.714790e+07  6.306864e+08  9.453587e+08  7.880226e+08\n",
       "6   2015  4.945100e+07  9.732960e+08  9.732960e+08  9.732960e+08\n",
       "7   2016  1.870480e+08  1.319811e+09  3.476598e+09  2.398204e+09\n",
       "8   2017  7.628300e+08  5.334547e+09  8.652371e+09  6.993459e+09\n",
       "9   2018  4.441300e+09  1.438981e+10  8.210187e+10  4.824584e+10\n",
       "10  2019  8.177000e+09  2.325539e+10  5.712995e+10  4.019267e+10\n",
       "11  2020  1.462430e+10  3.110992e+10  5.685928e+10  4.398460e+10\n",
       "12  2021  1.753490e+10  3.850664e+10  1.207621e+11  7.963438e+10"
      ]
     },
     "execution_count": 7,
     "metadata": {},
     "output_type": "execute_result"
    }
   ],
   "source": [
    "Consumption = pd.DataFrame()\n",
    "Consumption[\"Year\"] = np.arange(2009, 2022, 1)\n",
    "Consumption[\"Hash-rate\"] = Year_HR[\"Hash-rate\"]\n",
    "Consumption[\"Lower Bound\"] = Consumption[\"Hash-rate\"]*Year_MinEF[\"Efficiency(J/TH)\"]*24*3*(10**-3)\n",
    "Consumption[\"Upper Bound\"] = Consumption[\"Hash-rate\"]*Year_MaxEF[\"Efficiency(J/TH)\"]*24*3*(10**-3)\n",
    "Consumption[\"Average\"] = (Consumption[\"Lower Bound\"]+Consumption[\"Upper Bound\"])/2\n",
    "Consumption"
   ]
  },
  {
   "cell_type": "code",
   "execution_count": 8,
   "id": "e53730f5",
   "metadata": {},
   "outputs": [
    {
     "name": "stdout",
     "output_type": "stream",
     "text": [
      "Total power consumption from 2009 to 2021 ranges from 115.55677564955562  Twh to  331.4126926383812 Twh\n"
     ]
    }
   ],
   "source": [
    "print(\"Total power consumption from 2009 to 2021 ranges from\", sum(Consumption[\"Lower Bound\"])/(10**9), \" Twh to \", sum(Consumption[\"Upper Bound\"])/(10**9), \"Twh\")"
   ]
  },
  {
   "cell_type": "markdown",
   "id": "920b4ce7",
   "metadata": {},
   "source": [
    "## Visualizing the results\n",
    "<hr>\n",
    "\n",
    "### Annaul Network Hash-rate"
   ]
  },
  {
   "cell_type": "code",
   "execution_count": 9,
   "id": "f3d0904f",
   "metadata": {},
   "outputs": [
    {
     "data": {
      "image/png": "[encoded data removed]",
      "text/plain": [
       "<Figure size 720x360 with 1 Axes>"
      ]
     },
     "metadata": {
      "needs_background": "light"
     },
     "output_type": "display_data"
    }
   ],
   "source": [
    "y=np.arange(len(Consumption[\"Year\"]))\n",
    "x=Consumption[\"Hash-rate\"]\n",
    "pt.figure(figsize = (10, 5))\n",
    "pt.bar(y,x,0.4)\n",
    "pt.xticks(y,Consumption[\"Year\"])\n",
    "pt.ylabel('Hash-rate')\n",
    "pt.xlabel('Year')\n",
    "pt.title(\"Network Hash-rate\")\n",
    "pt.show()"
   ]
  },
  {
   "cell_type": "markdown",
   "id": "1a624830",
   "metadata": {},
   "source": [
    "### Min and Max Efficiency(J/TH)"
   ]
  },
  {
   "cell_type": "code",
   "execution_count": 10,
   "id": "f132d972",
   "metadata": {},
   "outputs": [
    {
     "data": {
      "image/png": "[encoded data removed]",
      "text/plain": [
       "<Figure size 720x360 with 1 Axes>"
      ]
     },
     "metadata": {
      "needs_background": "light"
     },
     "output_type": "display_data"
    }
   ],
   "source": [
    "y=np.arange(len(Consumption[\"Year\"]))\n",
    "x=(1/Year_MinEF[\"Efficiency(J/TH)\"])\n",
    "z=(1/Year_MaxEF[\"Efficiency(J/TH)\"])\n",
    "pt.figure(figsize = (10, 5))\n",
    "\n",
    "pt.bar(y-0.2, x, 0.4, label = \"Max\")\n",
    "pt.bar(y+0.2, z, 0.4, label = \"Min\")\n",
    "\n",
    "pt.xticks(y,Consumption[\"Year\"])\n",
    "pt.ylabel('Efficiency (J/TH)')\n",
    "pt.xlabel('Year')\n",
    "pt.title(\"Efficiency of Hardware\")\n",
    "pt.legend()\n",
    "pt.show()"
   ]
  },
  {
   "cell_type": "markdown",
   "id": "91f486d2",
   "metadata": {},
   "source": [
    "### Electricity Consumption"
   ]
  },
  {
   "cell_type": "code",
   "execution_count": 11,
   "id": "df10bd88",
   "metadata": {},
   "outputs": [
    {
     "data": {
      "image/png": "[encoded data removed]",
      "text/plain": [
       "<Figure size 720x360 with 1 Axes>"
      ]
     },
     "metadata": {
      "needs_background": "light"
     },
     "output_type": "display_data"
    }
   ],
   "source": [
    "y=np.arange(len(Consumption[\"Year\"]))\n",
    "x=(Consumption[\"Upper Bound\"]/10**9)\n",
    "z=(Consumption[\"Lower Bound\"]/10**9)\n",
    "pt.figure(figsize = (10, 5))\n",
    "\n",
    "pt.bar(y-0.2, x, 0.4, label = \"Upper Bound\")\n",
    "pt.bar(y+0.2, z, 0.4, label = \"Lower Bound\")\n",
    "\n",
    "pt.xticks(y,Consumption[\"Year\"])\n",
    "pt.ylabel('Electricity Consumption (Twh)')\n",
    "pt.xlabel('Year')\n",
    "pt.title(\"Electricity Consumption\")\n",
    "pt.legend()\n",
    "pt.show()"
   ]
  },
  {
   "cell_type": "markdown",
   "id": "7a1c929e",
   "metadata": {},
   "source": [
    "### Network Hash-rate"
   ]
  },
  {
   "cell_type": "code",
   "execution_count": 12,
   "id": "964a9618",
   "metadata": {},
   "outputs": [
    {
     "data": {
      "image/png": "[encoded data removed]",
      "text/plain": [
       "<Figure size 720x360 with 1 Axes>"
      ]
     },
     "metadata": {
      "needs_background": "light"
     },
     "output_type": "display_data"
    }
   ],
   "source": [
    "hr1=pd.read_csv(\"Hybrid Method - Hashrate.csv\")\n",
    "hr1.Timestamp = pd.to_datetime(hr1.Timestamp , format=\"%Y%m%\")\n",
    "x = hr1[\"Timestamp\"]\n",
    "y = hr1[\"hash-rate\"]\n",
    "pt.figure(figsize = (10, 5))  \n",
    "pt.plot(x, y)\n",
    "pt.xlabel(\"Date\")  \n",
    "pt.ylabel(\"Hash-Rate\")  \n",
    "pt.title(\"Network Hash-rate\")  \n",
    "pt.show()"
   ]
  },
  {
   "cell_type": "markdown",
   "id": "a69af51f",
   "metadata": {},
   "source": [
    "## Carbon footprints"
   ]
  },
  {
   "cell_type": "markdown",
   "id": "457936c0",
   "metadata": {},
   "source": [
    "### Using mining pool infromation <hr>"
   ]
  },
  {
   "cell_type": "markdown",
   "id": "6b192289",
   "metadata": {},
   "source": [
    "**Reading the files required to computer emission**"
   ]
  },
  {
   "cell_type": "code",
   "execution_count": 13,
   "id": "c8610a40",
   "metadata": {
    "scrolled": true
   },
   "outputs": [
    {
     "data": {
      "text/html": [
       "<div>\n",
       "<style scoped>\n",
       "    .dataframe tbody tr th:only-of-type {\n",
       "        vertical-align: middle;\n",
       "    }\n",
       "\n",
       "    .dataframe tbody tr th {\n",
       "        vertical-align: top;\n",
       "    }\n",
       "\n",
       "    .dataframe thead th {\n",
       "        text-align: right;\n",
       "    }\n",
       "</style>\n",
       "<table border=\"1\" class=\"dataframe\">\n",
       "  <thead>\n",
       "    <tr style=\"text-align: right;\">\n",
       "      <th></th>\n",
       "      <th>Sources</th>\n",
       "      <th>emissions(gCO2 per kwh)</th>\n",
       "    </tr>\n",
       "  </thead>\n",
       "  <tbody>\n",
       "    <tr>\n",
       "      <th>0</th>\n",
       "      <td>Coal</td>\n",
       "      <td>820</td>\n",
       "    </tr>\n",
       "    <tr>\n",
       "      <th>1</th>\n",
       "      <td>Biomass-co-firing</td>\n",
       "      <td>740</td>\n",
       "    </tr>\n",
       "    <tr>\n",
       "      <th>2</th>\n",
       "      <td>Natural Gas</td>\n",
       "      <td>490</td>\n",
       "    </tr>\n",
       "    <tr>\n",
       "      <th>3</th>\n",
       "      <td>Biomass</td>\n",
       "      <td>230</td>\n",
       "    </tr>\n",
       "    <tr>\n",
       "      <th>4</th>\n",
       "      <td>Solar PV-utility</td>\n",
       "      <td>48</td>\n",
       "    </tr>\n",
       "  </tbody>\n",
       "</table>\n",
       "</div>"
      ],
      "text/plain": [
       "             Sources  emissions(gCO2 per kwh)\n",
       "0               Coal                      820\n",
       "1  Biomass-co-firing                      740\n",
       "2        Natural Gas                      490\n",
       "3            Biomass                      230\n",
       "4   Solar PV-utility                       48"
      ]
     },
     "execution_count": 13,
     "metadata": {},
     "output_type": "execute_result"
    }
   ],
   "source": [
    "emissions = pd.read_csv(\"emission.csv\")\n",
    "pools = pd.read_csv(\"Pool share sheet - Sheet1.csv\")\n",
    "emissions.head()"
   ]
  },
  {
   "cell_type": "markdown",
   "id": "27f5473e",
   "metadata": {},
   "source": [
    "**Scraping pool data from btc.com**"
   ]
  },
  {
   "cell_type": "code",
   "execution_count": 14,
   "id": "aacd633b",
   "metadata": {},
   "outputs": [],
   "source": [
    "proxies = {}\n",
    "url = \"https://btc.com/stats/pool?percent_mode=2021#pool-history\"\n",
    "response = requests.get(url=url, proxies=proxies)\n",
    "with open(\"PoolData.csv\", \"wb\") as f:\n",
    "    f.write(response.content)"
   ]
  },
  {
   "cell_type": "markdown",
   "id": "df0ca8e7",
   "metadata": {},
   "source": [
    "**Calculating carbon emissions**"
   ]
  },
  {
   "cell_type": "code",
   "execution_count": 15,
   "id": "c1e926be",
   "metadata": {},
   "outputs": [
    {
     "data": {
      "text/html": [
       "<div>\n",
       "<style scoped>\n",
       "    .dataframe tbody tr th:only-of-type {\n",
       "        vertical-align: middle;\n",
       "    }\n",
       "\n",
       "    .dataframe tbody tr th {\n",
       "        vertical-align: top;\n",
       "    }\n",
       "\n",
       "    .dataframe thead th {\n",
       "        text-align: right;\n",
       "    }\n",
       "</style>\n",
       "<table border=\"1\" class=\"dataframe\">\n",
       "  <thead>\n",
       "    <tr style=\"text-align: right;\">\n",
       "      <th></th>\n",
       "      <th>pools</th>\n",
       "      <th>share</th>\n",
       "      <th>location</th>\n",
       "      <th>Consumption (Upper)</th>\n",
       "      <th>Consumption (Lower)</th>\n",
       "    </tr>\n",
       "  </thead>\n",
       "  <tbody>\n",
       "    <tr>\n",
       "      <th>0</th>\n",
       "      <td>Foundry USA</td>\n",
       "      <td>6.785</td>\n",
       "      <td>USA</td>\n",
       "      <td>8.193710e+09</td>\n",
       "      <td>2.612676e+09</td>\n",
       "    </tr>\n",
       "    <tr>\n",
       "      <th>1</th>\n",
       "      <td>AntPool</td>\n",
       "      <td>14.614</td>\n",
       "      <td>china</td>\n",
       "      <td>1.764818e+10</td>\n",
       "      <td>5.627360e+09</td>\n",
       "    </tr>\n",
       "    <tr>\n",
       "      <th>2</th>\n",
       "      <td>F2Pool</td>\n",
       "      <td>15.054</td>\n",
       "      <td>china</td>\n",
       "      <td>1.817953e+10</td>\n",
       "      <td>5.796790e+09</td>\n",
       "    </tr>\n",
       "    <tr>\n",
       "      <th>3</th>\n",
       "      <td>Binance Pool</td>\n",
       "      <td>10.268</td>\n",
       "      <td>USA</td>\n",
       "      <td>1.239986e+10</td>\n",
       "      <td>3.953862e+09</td>\n",
       "    </tr>\n",
       "    <tr>\n",
       "      <th>4</th>\n",
       "      <td>ViaBTC</td>\n",
       "      <td>10.812</td>\n",
       "      <td>china</td>\n",
       "      <td>1.305680e+10</td>\n",
       "      <td>4.163338e+09</td>\n",
       "    </tr>\n",
       "    <tr>\n",
       "      <th>5</th>\n",
       "      <td>pOOLIN</td>\n",
       "      <td>10.992</td>\n",
       "      <td>china</td>\n",
       "      <td>1.327417e+10</td>\n",
       "      <td>4.232650e+09</td>\n",
       "    </tr>\n",
       "    <tr>\n",
       "      <th>6</th>\n",
       "      <td>BTC.com</td>\n",
       "      <td>9.433</td>\n",
       "      <td>USA</td>\n",
       "      <td>1.139149e+10</td>\n",
       "      <td>3.632331e+09</td>\n",
       "    </tr>\n",
       "    <tr>\n",
       "      <th>7</th>\n",
       "      <td>SlushPool</td>\n",
       "      <td>4.074</td>\n",
       "      <td>Brazil</td>\n",
       "      <td>4.919849e+09</td>\n",
       "      <td>1.568761e+09</td>\n",
       "    </tr>\n",
       "    <tr>\n",
       "      <th>8</th>\n",
       "      <td>unknown</td>\n",
       "      <td>4.904</td>\n",
       "      <td>Global</td>\n",
       "      <td>5.922175e+09</td>\n",
       "      <td>1.888366e+09</td>\n",
       "    </tr>\n",
       "    <tr>\n",
       "      <th>9</th>\n",
       "      <td>others</td>\n",
       "      <td>11.753</td>\n",
       "      <td>Global</td>\n",
       "      <td>1.419317e+10</td>\n",
       "      <td>4.525685e+09</td>\n",
       "    </tr>\n",
       "    <tr>\n",
       "      <th>10</th>\n",
       "      <td>SBI crpto</td>\n",
       "      <td>1.309</td>\n",
       "      <td>Japan</td>\n",
       "      <td>1.580776e+09</td>\n",
       "      <td>5.040519e+08</td>\n",
       "    </tr>\n",
       "  </tbody>\n",
       "</table>\n",
       "</div>"
      ],
      "text/plain": [
       "           pools   share location  Consumption (Upper)  Consumption (Lower)\n",
       "0    Foundry USA   6.785      USA         8.193710e+09         2.612676e+09\n",
       "1        AntPool  14.614    china         1.764818e+10         5.627360e+09\n",
       "2         F2Pool  15.054    china         1.817953e+10         5.796790e+09\n",
       "3   Binance Pool  10.268      USA         1.239986e+10         3.953862e+09\n",
       "4         ViaBTC  10.812    china         1.305680e+10         4.163338e+09\n",
       "5         pOOLIN  10.992    china         1.327417e+10         4.232650e+09\n",
       "6        BTC.com   9.433      USA         1.139149e+10         3.632331e+09\n",
       "7      SlushPool   4.074   Brazil         4.919849e+09         1.568761e+09\n",
       "8        unknown   4.904   Global         5.922175e+09         1.888366e+09\n",
       "9         others  11.753   Global         1.419317e+10         4.525685e+09\n",
       "10     SBI crpto   1.309    Japan         1.580776e+09         5.040519e+08"
      ]
     },
     "execution_count": 15,
     "metadata": {},
     "output_type": "execute_result"
    }
   ],
   "source": [
    "pools[\"Consumption (Upper)\"] = (Consumption.loc[12, \"Upper Bound\"]*pools[\"share\"])/100\n",
    "pools[\"Consumption (Lower)\"] = (Consumption.loc[12, \"Lower Bound\"]*pools[\"share\"])/100\n",
    "pools"
   ]
  },
  {
   "cell_type": "code",
   "execution_count": 16,
   "id": "dcd6121f",
   "metadata": {},
   "outputs": [],
   "source": [
    "pools[\"Carbon Footprints (Upper)\"] = 0\n",
    "for i in range(11):\n",
    "    if(pools.loc[i, \"location\"] == \"USA\"):\n",
    "        pools.loc[i, \"Carbon Footprints (Upper)\"] = pools.loc[i, \"Consumption (Upper)\"]*(0.21618*820 + 0.60346*820 + 0.37893*490 + 0.06137*24 + 0.18719*12 + 0.20935*50 + 0.03938*48 + 0.09135*12)\n",
    "    elif(pools.loc[i, \"location\"] == \"china\"):\n",
    "        pools.loc[i, \"Carbon Footprints (Upper)\"] = pools.loc[i, \"Consumption (Upper)\"]*(0.63633*820 + 0.66951*820 + 0.03159*490 + 0*24 + 0.04817*12 + 0.28278*50 + 0.03909*48 + 0.0726*12)\n",
    "    elif(pools.loc[i, \"location\"] == \"Brazil\"):\n",
    "        pools.loc[i, \"Carbon Footprints (Upper)\"] = pools.loc[i, \"Consumption (Upper)\"]*(0.04153*820 + 0.18776*820 + 0.1223*490 + 0.58054*24 + 0.02297*12 + 0.78928*50 + 0.01949*48 + 0.11279*12)\n",
    "    elif(pools.loc[i, \"location\"] == \"Japan\"):\n",
    "        pools.loc[i, \"Carbon Footprints (Upper)\"] = pools.loc[i, \"Consumption (Upper)\"]*(0.30652*820 + 0.67516*820 + 0.32072*490 + 0.09247*24 + 0.06324*12 + 0.26161*50 + 0.09257*48 + 0.00965*12)\n",
    "    else:\n",
    "        pools.loc[i, \"Carbon Footprints (Upper)\"] = pools.loc[i, \"Consumption (Upper)\"]*(0.3649*820 + 0.61743*820 + 0.22158*490 + 0.15284*24 + 0.0994*12 + 0.28317*50 + 0.03718*48 + 0.0659*12)"
   ]
  },
  {
   "cell_type": "code",
   "execution_count": 17,
   "id": "68fbf906",
   "metadata": {},
   "outputs": [],
   "source": [
    "pools[\"Carbon Footprints (Lower)\"] = 0\n",
    "for i in range(11):\n",
    "    if(pools.loc[i, \"location\"] == \"USA\"):\n",
    "        pools.loc[i, \"Carbon Footprints (Lower)\"] = pools.loc[i, \"Consumption (Lower)\"]*(0.21618*820 + 0.60346*820 + 0.37893*490 + 0.06137*24 + 0.18719*12 + 0.20935*50 + 0.03938*48 + 0.09135*12)\n",
    "    elif(pools.loc[i, \"location\"] == \"china\"):\n",
    "        pools.loc[i, \"Carbon Footprints (Lower)\"] = pools.loc[i, \"Consumption (Lower)\"]*(0.63633*820 + 0.66951*820 + 0.03159*490 + 0*24 + 0.04817*12 + 0.28278*50 + 0.03909*48 + 0.0726*12)\n",
    "    elif(pools.loc[i, \"location\"] == \"Brazil\"):\n",
    "        pools.loc[i, \"Carbon Footprints (Lower)\"] = pools.loc[i, \"Consumption (Lower)\"]*(0.04153*820 + 0.18776*820 + 0.1223*490 + 0.58054*24 + 0.02297*12 + 0.78928*50 + 0.01949*48 + 0.11279*12)\n",
    "    elif(pools.loc[i, \"location\"] == \"Japan\"):\n",
    "        pools.loc[i, \"Carbon Footprints (Lower)\"] = pools.loc[i, \"Consumption (Lower)\"]*(0.30652*820 + 0.67516*820 + 0.32072*490 + 0.09247*24 + 0.06324*12 + 0.26161*50 + 0.09257*48 + 0.00965*12)\n",
    "    else:\n",
    "        pools.loc[i, \"Carbon Footprints (Lower)\"] = pools.loc[i, \"Consumption (Lower)\"]*(0.3649*820 + 0.61743*820 + 0.22158*490 + 0.15284*24 + 0.0994*12 + 0.28317*50 + 0.03718*48 + 0.0659*12)"
   ]
  },
  {
   "cell_type": "code",
   "execution_count": 18,
   "id": "aef9b863",
   "metadata": {},
   "outputs": [
    {
     "data": {
      "text/html": [
       "<div>\n",
       "<style scoped>\n",
       "    .dataframe tbody tr th:only-of-type {\n",
       "        vertical-align: middle;\n",
       "    }\n",
       "\n",
       "    .dataframe tbody tr th {\n",
       "        vertical-align: top;\n",
       "    }\n",
       "\n",
       "    .dataframe thead th {\n",
       "        text-align: right;\n",
       "    }\n",
       "</style>\n",
       "<table border=\"1\" class=\"dataframe\">\n",
       "  <thead>\n",
       "    <tr style=\"text-align: right;\">\n",
       "      <th></th>\n",
       "      <th>pools</th>\n",
       "      <th>share</th>\n",
       "      <th>location</th>\n",
       "      <th>Consumption (Upper)</th>\n",
       "      <th>Consumption (Lower)</th>\n",
       "      <th>Carbon Footprints (Upper)</th>\n",
       "      <th>Carbon Footprints (Lower)</th>\n",
       "    </tr>\n",
       "  </thead>\n",
       "  <tbody>\n",
       "    <tr>\n",
       "      <th>0</th>\n",
       "      <td>Foundry USA</td>\n",
       "      <td>6.785</td>\n",
       "      <td>USA</td>\n",
       "      <td>8.193710e+09</td>\n",
       "      <td>2.612676e+09</td>\n",
       "      <td>7.169116e+12</td>\n",
       "      <td>2.285970e+12</td>\n",
       "    </tr>\n",
       "    <tr>\n",
       "      <th>1</th>\n",
       "      <td>AntPool</td>\n",
       "      <td>14.614</td>\n",
       "      <td>china</td>\n",
       "      <td>1.764818e+10</td>\n",
       "      <td>5.627360e+09</td>\n",
       "      <td>1.947887e+13</td>\n",
       "      <td>6.211100e+12</td>\n",
       "    </tr>\n",
       "    <tr>\n",
       "      <th>2</th>\n",
       "      <td>F2Pool</td>\n",
       "      <td>15.054</td>\n",
       "      <td>china</td>\n",
       "      <td>1.817953e+10</td>\n",
       "      <td>5.796790e+09</td>\n",
       "      <td>2.006534e+13</td>\n",
       "      <td>6.398105e+12</td>\n",
       "    </tr>\n",
       "    <tr>\n",
       "      <th>3</th>\n",
       "      <td>Binance Pool</td>\n",
       "      <td>10.268</td>\n",
       "      <td>USA</td>\n",
       "      <td>1.239986e+10</td>\n",
       "      <td>3.953862e+09</td>\n",
       "      <td>1.084930e+13</td>\n",
       "      <td>3.459446e+12</td>\n",
       "    </tr>\n",
       "    <tr>\n",
       "      <th>4</th>\n",
       "      <td>ViaBTC</td>\n",
       "      <td>10.812</td>\n",
       "      <td>china</td>\n",
       "      <td>1.305680e+10</td>\n",
       "      <td>4.163338e+09</td>\n",
       "      <td>1.441122e+13</td>\n",
       "      <td>4.595211e+12</td>\n",
       "    </tr>\n",
       "    <tr>\n",
       "      <th>5</th>\n",
       "      <td>pOOLIN</td>\n",
       "      <td>10.992</td>\n",
       "      <td>china</td>\n",
       "      <td>1.327417e+10</td>\n",
       "      <td>4.232650e+09</td>\n",
       "      <td>1.465114e+13</td>\n",
       "      <td>4.671713e+12</td>\n",
       "    </tr>\n",
       "    <tr>\n",
       "      <th>6</th>\n",
       "      <td>BTC.com</td>\n",
       "      <td>9.433</td>\n",
       "      <td>USA</td>\n",
       "      <td>1.139149e+10</td>\n",
       "      <td>3.632331e+09</td>\n",
       "      <td>9.967026e+12</td>\n",
       "      <td>3.178121e+12</td>\n",
       "    </tr>\n",
       "    <tr>\n",
       "      <th>7</th>\n",
       "      <td>SlushPool</td>\n",
       "      <td>4.074</td>\n",
       "      <td>Brazil</td>\n",
       "      <td>4.919849e+09</td>\n",
       "      <td>1.568761e+09</td>\n",
       "      <td>1.495174e+12</td>\n",
       "      <td>4.767564e+11</td>\n",
       "    </tr>\n",
       "    <tr>\n",
       "      <th>8</th>\n",
       "      <td>unknown</td>\n",
       "      <td>4.904</td>\n",
       "      <td>Global</td>\n",
       "      <td>5.922175e+09</td>\n",
       "      <td>1.888366e+09</td>\n",
       "      <td>5.541259e+12</td>\n",
       "      <td>1.766905e+12</td>\n",
       "    </tr>\n",
       "    <tr>\n",
       "      <th>9</th>\n",
       "      <td>others</td>\n",
       "      <td>11.753</td>\n",
       "      <td>Global</td>\n",
       "      <td>1.419317e+10</td>\n",
       "      <td>4.525685e+09</td>\n",
       "      <td>1.328026e+13</td>\n",
       "      <td>4.234592e+12</td>\n",
       "    </tr>\n",
       "    <tr>\n",
       "      <th>10</th>\n",
       "      <td>SBI crpto</td>\n",
       "      <td>1.309</td>\n",
       "      <td>Japan</td>\n",
       "      <td>1.580776e+09</td>\n",
       "      <td>5.040519e+08</td>\n",
       "      <td>1.553505e+12</td>\n",
       "      <td>4.953561e+11</td>\n",
       "    </tr>\n",
       "  </tbody>\n",
       "</table>\n",
       "</div>"
      ],
      "text/plain": [
       "           pools   share location  Consumption (Upper)  Consumption (Lower)  \\\n",
       "0    Foundry USA   6.785      USA         8.193710e+09         2.612676e+09   \n",
       "1        AntPool  14.614    china         1.764818e+10         5.627360e+09   \n",
       "2         F2Pool  15.054    china         1.817953e+10         5.796790e+09   \n",
       "3   Binance Pool  10.268      USA         1.239986e+10         3.953862e+09   \n",
       "4         ViaBTC  10.812    china         1.305680e+10         4.163338e+09   \n",
       "5         pOOLIN  10.992    china         1.327417e+10         4.232650e+09   \n",
       "6        BTC.com   9.433      USA         1.139149e+10         3.632331e+09   \n",
       "7      SlushPool   4.074   Brazil         4.919849e+09         1.568761e+09   \n",
       "8        unknown   4.904   Global         5.922175e+09         1.888366e+09   \n",
       "9         others  11.753   Global         1.419317e+10         4.525685e+09   \n",
       "10     SBI crpto   1.309    Japan         1.580776e+09         5.040519e+08   \n",
       "\n",
       "    Carbon Footprints (Upper)  Carbon Footprints (Lower)  \n",
       "0                7.169116e+12               2.285970e+12  \n",
       "1                1.947887e+13               6.211100e+12  \n",
       "2                2.006534e+13               6.398105e+12  \n",
       "3                1.084930e+13               3.459446e+12  \n",
       "4                1.441122e+13               4.595211e+12  \n",
       "5                1.465114e+13               4.671713e+12  \n",
       "6                9.967026e+12               3.178121e+12  \n",
       "7                1.495174e+12               4.767564e+11  \n",
       "8                5.541259e+12               1.766905e+12  \n",
       "9                1.328026e+13               4.234592e+12  \n",
       "10               1.553505e+12               4.953561e+11  "
      ]
     },
     "execution_count": 18,
     "metadata": {},
     "output_type": "execute_result"
    }
   ],
   "source": [
    "pools"
   ]
  },
  {
   "cell_type": "code",
   "execution_count": 19,
   "id": "52fe0b20",
   "metadata": {},
   "outputs": [
    {
     "name": "stdout",
     "output_type": "stream",
     "text": [
      "Carbon emission for the year 2021 ranges from  37.77327646129654  to  118.46219654856488\n"
     ]
    }
   ],
   "source": [
    "print(\"Carbon emission for the year 2021 ranges from \", sum(pools[\"Carbon Footprints (Lower)\"])/10**12, \" to \", sum(pools[\"Carbon Footprints (Upper)\"])/10**12)"
   ]
  },
  {
   "cell_type": "markdown",
   "id": "5aa31791",
   "metadata": {},
   "source": [
    "### Using upper and lower bounds <hr>"
   ]
  },
  {
   "cell_type": "markdown",
   "id": "cdb5f5e7",
   "metadata": {},
   "source": [
    "**Calculating lower and upper emission values**"
   ]
  },
  {
   "cell_type": "code",
   "execution_count": 20,
   "id": "e394c43c",
   "metadata": {},
   "outputs": [],
   "source": [
    "UpperBound = emissions.loc[:3]\n",
    "LowerBound = emissions.loc[4:]\n",
    "up = sum(UpperBound[\"emissions(gCO2 per kwh)\"])/len(UpperBound)\n",
    "lw = sum(LowerBound[\"emissions(gCO2 per kwh)\"])/len(LowerBound)"
   ]
  },
  {
   "cell_type": "markdown",
   "id": "508696d7",
   "metadata": {},
   "source": [
    "**Calculating min, max and avg value of carbon emission**"
   ]
  },
  {
   "cell_type": "code",
   "execution_count": 21,
   "id": "50a6b79d",
   "metadata": {},
   "outputs": [
    {
     "data": {
      "text/html": [
       "<div>\n",
       "<style scoped>\n",
       "    .dataframe tbody tr th:only-of-type {\n",
       "        vertical-align: middle;\n",
       "    }\n",
       "\n",
       "    .dataframe tbody tr th {\n",
       "        vertical-align: top;\n",
       "    }\n",
       "\n",
       "    .dataframe thead th {\n",
       "        text-align: right;\n",
       "    }\n",
       "</style>\n",
       "<table border=\"1\" class=\"dataframe\">\n",
       "  <thead>\n",
       "    <tr style=\"text-align: right;\">\n",
       "      <th></th>\n",
       "      <th>Year</th>\n",
       "      <th>Average</th>\n",
       "      <th>Min Carbon Emission (Mt)</th>\n",
       "      <th>Max Carbon Emission (Mt)</th>\n",
       "      <th>Avg Carbon Emission (Mt)</th>\n",
       "    </tr>\n",
       "  </thead>\n",
       "  <tbody>\n",
       "    <tr>\n",
       "      <th>0</th>\n",
       "      <td>2009</td>\n",
       "      <td>5.615940e+02</td>\n",
       "      <td>1.495244e-08</td>\n",
       "      <td>3.201086e-07</td>\n",
       "      <td>1.675305e-07</td>\n",
       "    </tr>\n",
       "    <tr>\n",
       "      <th>1</th>\n",
       "      <td>2010</td>\n",
       "      <td>3.235969e+05</td>\n",
       "      <td>8.615766e-06</td>\n",
       "      <td>1.844502e-04</td>\n",
       "      <td>9.653299e-05</td>\n",
       "    </tr>\n",
       "    <tr>\n",
       "      <th>2</th>\n",
       "      <td>2011</td>\n",
       "      <td>1.905707e+08</td>\n",
       "      <td>5.073945e-03</td>\n",
       "      <td>1.086253e-01</td>\n",
       "      <td>5.684962e-02</td>\n",
       "    </tr>\n",
       "    <tr>\n",
       "      <th>3</th>\n",
       "      <td>2012</td>\n",
       "      <td>8.982979e+06</td>\n",
       "      <td>2.391718e-04</td>\n",
       "      <td>5.120298e-03</td>\n",
       "      <td>2.679735e-03</td>\n",
       "    </tr>\n",
       "    <tr>\n",
       "      <th>4</th>\n",
       "      <td>2013</td>\n",
       "      <td>7.437882e+07</td>\n",
       "      <td>1.980336e-03</td>\n",
       "      <td>4.239593e-02</td>\n",
       "      <td>2.218813e-02</td>\n",
       "    </tr>\n",
       "    <tr>\n",
       "      <th>5</th>\n",
       "      <td>2014</td>\n",
       "      <td>7.880226e+08</td>\n",
       "      <td>2.098110e-02</td>\n",
       "      <td>4.491729e-01</td>\n",
       "      <td>2.350770e-01</td>\n",
       "    </tr>\n",
       "    <tr>\n",
       "      <th>6</th>\n",
       "      <td>2015</td>\n",
       "      <td>9.732960e+08</td>\n",
       "      <td>2.591401e-02</td>\n",
       "      <td>5.547787e-01</td>\n",
       "      <td>2.903464e-01</td>\n",
       "    </tr>\n",
       "    <tr>\n",
       "      <th>7</th>\n",
       "      <td>2016</td>\n",
       "      <td>2.398204e+09</td>\n",
       "      <td>6.385219e-02</td>\n",
       "      <td>1.366977e+00</td>\n",
       "      <td>7.154144e-01</td>\n",
       "    </tr>\n",
       "    <tr>\n",
       "      <th>8</th>\n",
       "      <td>2017</td>\n",
       "      <td>6.993459e+09</td>\n",
       "      <td>1.862008e-01</td>\n",
       "      <td>3.986272e+00</td>\n",
       "      <td>2.086236e+00</td>\n",
       "    </tr>\n",
       "    <tr>\n",
       "      <th>9</th>\n",
       "      <td>2018</td>\n",
       "      <td>4.824584e+10</td>\n",
       "      <td>1.284546e+00</td>\n",
       "      <td>2.750013e+01</td>\n",
       "      <td>1.439234e+01</td>\n",
       "    </tr>\n",
       "    <tr>\n",
       "      <th>10</th>\n",
       "      <td>2019</td>\n",
       "      <td>4.019267e+10</td>\n",
       "      <td>1.070130e+00</td>\n",
       "      <td>2.290982e+01</td>\n",
       "      <td>1.198998e+01</td>\n",
       "    </tr>\n",
       "    <tr>\n",
       "      <th>11</th>\n",
       "      <td>2020</td>\n",
       "      <td>4.398460e+10</td>\n",
       "      <td>1.171090e+00</td>\n",
       "      <td>2.507122e+01</td>\n",
       "      <td>1.312116e+01</td>\n",
       "    </tr>\n",
       "    <tr>\n",
       "      <th>12</th>\n",
       "      <td>2021</td>\n",
       "      <td>7.963438e+10</td>\n",
       "      <td>2.120265e+00</td>\n",
       "      <td>4.539160e+01</td>\n",
       "      <td>2.375593e+01</td>\n",
       "    </tr>\n",
       "  </tbody>\n",
       "</table>\n",
       "</div>"
      ],
      "text/plain": [
       "    Year       Average  Min Carbon Emission (Mt)  Max Carbon Emission (Mt)  \\\n",
       "0   2009  5.615940e+02              1.495244e-08              3.201086e-07   \n",
       "1   2010  3.235969e+05              8.615766e-06              1.844502e-04   \n",
       "2   2011  1.905707e+08              5.073945e-03              1.086253e-01   \n",
       "3   2012  8.982979e+06              2.391718e-04              5.120298e-03   \n",
       "4   2013  7.437882e+07              1.980336e-03              4.239593e-02   \n",
       "5   2014  7.880226e+08              2.098110e-02              4.491729e-01   \n",
       "6   2015  9.732960e+08              2.591401e-02              5.547787e-01   \n",
       "7   2016  2.398204e+09              6.385219e-02              1.366977e+00   \n",
       "8   2017  6.993459e+09              1.862008e-01              3.986272e+00   \n",
       "9   2018  4.824584e+10              1.284546e+00              2.750013e+01   \n",
       "10  2019  4.019267e+10              1.070130e+00              2.290982e+01   \n",
       "11  2020  4.398460e+10              1.171090e+00              2.507122e+01   \n",
       "12  2021  7.963438e+10              2.120265e+00              4.539160e+01   \n",
       "\n",
       "    Avg Carbon Emission (Mt)  \n",
       "0               1.675305e-07  \n",
       "1               9.653299e-05  \n",
       "2               5.684962e-02  \n",
       "3               2.679735e-03  \n",
       "4               2.218813e-02  \n",
       "5               2.350770e-01  \n",
       "6               2.903464e-01  \n",
       "7               7.154144e-01  \n",
       "8               2.086236e+00  \n",
       "9               1.439234e+01  \n",
       "10              1.198998e+01  \n",
       "11              1.312116e+01  \n",
       "12              2.375593e+01  "
      ]
     },
     "execution_count": 21,
     "metadata": {},
     "output_type": "execute_result"
    }
   ],
   "source": [
    "CarbonEmission = Consumption.copy()\n",
    "CarbonEmission = CarbonEmission.drop([\"Hash-rate\", \"Upper Bound\", \"Lower Bound\"], axis=1)\n",
    "CarbonEmission[\"Min Carbon Emission (Mt)\"] = (CarbonEmission[\"Average\"]*lw)/10**12\n",
    "CarbonEmission[\"Max Carbon Emission (Mt)\"] = (CarbonEmission[\"Average\"]*up)/10**12\n",
    "CarbonEmission[\"Avg Carbon Emission (Mt)\"] = (CarbonEmission[\"Min Carbon Emission (Mt)\"] + CarbonEmission[\"Max Carbon Emission (Mt)\"])/2\n",
    "CarbonEmission"
   ]
  },
  {
   "cell_type": "code",
   "execution_count": 22,
   "id": "c70ebf3b",
   "metadata": {
    "scrolled": false
   },
   "outputs": [
    {
     "name": "stdout",
     "output_type": "stream",
     "text": [
      "Carbon emission ranges from 5.950281046583159 Mt to 127.386298462062 Mt.\n"
     ]
    }
   ],
   "source": [
    "print(\"Carbon emission ranges from\", sum(CarbonEmission[\"Min Carbon Emission (Mt)\"]), \"Mt to\", sum(CarbonEmission[\"Max Carbon Emission (Mt)\"]), \"Mt.\")"
   ]
  },
  {
   "cell_type": "code",
   "execution_count": null,
   "id": "ba3a7780",
   "metadata": {},
   "outputs": [],
   "source": []
  }
 ],
 "metadata": {
  "kernelspec": {
   "display_name": "Python 3 (ipykernel)",
   "language": "python",
   "name": "python3"
  },
  "language_info": {
   "codemirror_mode": {
    "name": "ipython",
    "version": 3
   },
   "file_extension": ".py",
   "mimetype": "text/x-python",
   "name": "python",
   "nbconvert_exporter": "python",
   "pygments_lexer": "ipython3",
   "version": "3.10.5"
  }
 },
 "nbformat": 4,
 "nbformat_minor": 5
}
